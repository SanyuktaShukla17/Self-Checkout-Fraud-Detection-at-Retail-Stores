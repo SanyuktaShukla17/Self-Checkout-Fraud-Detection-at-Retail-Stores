{
 "cells": [
  {
   "cell_type": "markdown",
   "metadata": {
    "id": "caNWuFRP5Tvo"
   },
   "source": [
    "# Import the preprocessing data"
   ]
  },
  {
   "cell_type": "code",
   "execution_count": 1,
   "metadata": {
    "id": "NNLBDoPo5aTO"
   },
   "outputs": [],
   "source": [
    "import pandas as pd\n",
    "import numpy as np\n",
    "import warnings"
   ]
  },
  {
   "cell_type": "code",
   "execution_count": 2,
   "metadata": {
    "colab": {
     "base_uri": "https://localhost:8080/",
     "height": 244
    },
    "id": "1FEBD1AU5v03",
    "outputId": "b168b6e4-88d6-4155-9c18-2e4e5b0461aa"
   },
   "outputs": [
    {
     "name": "stdout",
     "output_type": "stream",
     "text": [
      "Shape of dataframe: (1879, 10)\n"
     ]
    },
    {
     "data": {
      "text/html": [
       "<div>\n",
       "<style scoped>\n",
       "    .dataframe tbody tr th:only-of-type {\n",
       "        vertical-align: middle;\n",
       "    }\n",
       "\n",
       "    .dataframe tbody tr th {\n",
       "        vertical-align: top;\n",
       "    }\n",
       "\n",
       "    .dataframe thead th {\n",
       "        text-align: right;\n",
       "    }\n",
       "</style>\n",
       "<table border=\"1\" class=\"dataframe\">\n",
       "  <thead>\n",
       "    <tr style=\"text-align: right;\">\n",
       "      <th></th>\n",
       "      <th>trustLevel</th>\n",
       "      <th>totalScanTimeInSeconds</th>\n",
       "      <th>grandTotal</th>\n",
       "      <th>lineItemVoids</th>\n",
       "      <th>scansWithoutRegistration</th>\n",
       "      <th>quantityModifications</th>\n",
       "      <th>scannedLineItemsPerSecond</th>\n",
       "      <th>valuePerSecond</th>\n",
       "      <th>lineItemVoidsPerPosition</th>\n",
       "      <th>fraud</th>\n",
       "    </tr>\n",
       "  </thead>\n",
       "  <tbody>\n",
       "    <tr>\n",
       "      <th>0</th>\n",
       "      <td>5</td>\n",
       "      <td>1054</td>\n",
       "      <td>54.70</td>\n",
       "      <td>7</td>\n",
       "      <td>0</td>\n",
       "      <td>3</td>\n",
       "      <td>0.027514</td>\n",
       "      <td>0.051898</td>\n",
       "      <td>0.241379</td>\n",
       "      <td>0</td>\n",
       "    </tr>\n",
       "    <tr>\n",
       "      <th>1</th>\n",
       "      <td>3</td>\n",
       "      <td>108</td>\n",
       "      <td>27.36</td>\n",
       "      <td>5</td>\n",
       "      <td>2</td>\n",
       "      <td>4</td>\n",
       "      <td>0.129630</td>\n",
       "      <td>0.253333</td>\n",
       "      <td>0.357143</td>\n",
       "      <td>0</td>\n",
       "    </tr>\n",
       "    <tr>\n",
       "      <th>2</th>\n",
       "      <td>3</td>\n",
       "      <td>1516</td>\n",
       "      <td>62.16</td>\n",
       "      <td>3</td>\n",
       "      <td>10</td>\n",
       "      <td>5</td>\n",
       "      <td>0.008575</td>\n",
       "      <td>0.041003</td>\n",
       "      <td>0.230769</td>\n",
       "      <td>0</td>\n",
       "    </tr>\n",
       "    <tr>\n",
       "      <th>3</th>\n",
       "      <td>6</td>\n",
       "      <td>1791</td>\n",
       "      <td>92.31</td>\n",
       "      <td>8</td>\n",
       "      <td>4</td>\n",
       "      <td>4</td>\n",
       "      <td>0.016192</td>\n",
       "      <td>0.051541</td>\n",
       "      <td>0.275862</td>\n",
       "      <td>0</td>\n",
       "    </tr>\n",
       "    <tr>\n",
       "      <th>4</th>\n",
       "      <td>5</td>\n",
       "      <td>430</td>\n",
       "      <td>81.53</td>\n",
       "      <td>3</td>\n",
       "      <td>7</td>\n",
       "      <td>2</td>\n",
       "      <td>0.062791</td>\n",
       "      <td>0.189605</td>\n",
       "      <td>0.111111</td>\n",
       "      <td>0</td>\n",
       "    </tr>\n",
       "  </tbody>\n",
       "</table>\n",
       "</div>"
      ],
      "text/plain": [
       "   trustLevel  totalScanTimeInSeconds  grandTotal  lineItemVoids   \n",
       "0           5                    1054       54.70              7  \\\n",
       "1           3                     108       27.36              5   \n",
       "2           3                    1516       62.16              3   \n",
       "3           6                    1791       92.31              8   \n",
       "4           5                     430       81.53              3   \n",
       "\n",
       "   scansWithoutRegistration  quantityModifications  scannedLineItemsPerSecond   \n",
       "0                         0                      3                   0.027514  \\\n",
       "1                         2                      4                   0.129630   \n",
       "2                        10                      5                   0.008575   \n",
       "3                         4                      4                   0.016192   \n",
       "4                         7                      2                   0.062791   \n",
       "\n",
       "   valuePerSecond  lineItemVoidsPerPosition  fraud  \n",
       "0        0.051898                  0.241379      0  \n",
       "1        0.253333                  0.357143      0  \n",
       "2        0.041003                  0.230769      0  \n",
       "3        0.051541                  0.275862      0  \n",
       "4        0.189605                  0.111111      0  "
      ]
     },
     "execution_count": 2,
     "metadata": {},
     "output_type": "execute_result"
    }
   ],
   "source": [
    "# Load dataset\n",
    "df = pd.read_csv('trainfraud.csv')\n",
    "\n",
    "\n",
    "print('Shape of dataframe:', df.shape)\n",
    "df.head()"
   ]
  },
  {
   "cell_type": "code",
   "execution_count": 3,
   "metadata": {
    "colab": {
     "base_uri": "https://localhost:8080/"
    },
    "id": "qcH_W6Dmqf3I",
    "outputId": "650d1680-e9b6-414c-8a13-a4dcedf66216"
   },
   "outputs": [
    {
     "data": {
      "text/plain": [
       "trustLevel                     int64\n",
       "totalScanTimeInSeconds         int64\n",
       "grandTotal                   float64\n",
       "lineItemVoids                  int64\n",
       "scansWithoutRegistration       int64\n",
       "quantityModifications          int64\n",
       "scannedLineItemsPerSecond    float64\n",
       "valuePerSecond               float64\n",
       "lineItemVoidsPerPosition     float64\n",
       "fraud                          int64\n",
       "dtype: object"
      ]
     },
     "execution_count": 3,
     "metadata": {},
     "output_type": "execute_result"
    }
   ],
   "source": [
    "df.dtypes"
   ]
  },
  {
   "cell_type": "markdown",
   "metadata": {
    "id": "WsoyAgW2rOLG"
   },
   "source": [
    "Because the data type is different, it will be equated with the `astype()` function"
   ]
  },
  {
   "cell_type": "code",
   "execution_count": 4,
   "metadata": {
    "id": "3D9fnnc5q3pt"
   },
   "outputs": [],
   "source": [
    "df = df = df.astype(int)"
   ]
  },
  {
   "cell_type": "code",
   "execution_count": 5,
   "metadata": {
    "colab": {
     "base_uri": "https://localhost:8080/"
    },
    "id": "a4EZr_vnq4eQ",
    "outputId": "efba52dd-38db-49fe-8bec-a97272699bd9"
   },
   "outputs": [
    {
     "data": {
      "text/plain": [
       "trustLevel                   int32\n",
       "totalScanTimeInSeconds       int32\n",
       "grandTotal                   int32\n",
       "lineItemVoids                int32\n",
       "scansWithoutRegistration     int32\n",
       "quantityModifications        int32\n",
       "scannedLineItemsPerSecond    int32\n",
       "valuePerSecond               int32\n",
       "lineItemVoidsPerPosition     int32\n",
       "fraud                        int32\n",
       "dtype: object"
      ]
     },
     "execution_count": 5,
     "metadata": {},
     "output_type": "execute_result"
    }
   ],
   "source": [
    "df.dtypes"
   ]
  },
  {
   "cell_type": "markdown",
   "metadata": {
    "id": "eZTgwPVAoBs2"
   },
   "source": [
    "## Missing Value\n",
    "In some cases, data may have missing values in some columns, this can be caused by several reasons such as human error. We can use the is_null() function from the Pandas library to check for missing data and then use the sum() function to see the total missing values in each column"
   ]
  },
  {
   "cell_type": "code",
   "execution_count": 6,
   "metadata": {
    "colab": {
     "base_uri": "https://localhost:8080/"
    },
    "id": "AXMFrypToSRv",
    "outputId": "312bce55-9a8d-41a7-fff9-63f0f9675cc8"
   },
   "outputs": [
    {
     "data": {
      "text/plain": [
       "trustLevel                   0\n",
       "totalScanTimeInSeconds       0\n",
       "grandTotal                   0\n",
       "lineItemVoids                0\n",
       "scansWithoutRegistration     0\n",
       "quantityModifications        0\n",
       "scannedLineItemsPerSecond    0\n",
       "valuePerSecond               0\n",
       "lineItemVoidsPerPosition     0\n",
       "fraud                        0\n",
       "dtype: int64"
      ]
     },
     "execution_count": 6,
     "metadata": {},
     "output_type": "execute_result"
    }
   ],
   "source": [
    "df.isnull().sum()"
   ]
  },
  {
   "cell_type": "markdown",
   "metadata": {
    "id": "sYT320S7obP-"
   },
   "source": [
    "From these results I can be sure that the data has no lost value and is ready to use."
   ]
  },
  {
   "cell_type": "markdown",
   "metadata": {
    "id": "8Hhs3OSlmrHx"
   },
   "source": [
    "# Class Distribution\n",
    "In this case where the expected class is split into two outcomes, '1 = yes' and '0 = no', an 80:20 class distribution can be considered ideal."
   ]
  },
  {
   "cell_type": "code",
   "execution_count": 7,
   "metadata": {
    "colab": {
     "base_uri": "https://localhost:8080/"
    },
    "id": "JsiDMqZJmgjm",
    "outputId": "fa6f440c-926a-4b78-e7a2-e0aea05a3329"
   },
   "outputs": [
    {
     "data": {
      "text/plain": [
       "fraud\n",
       "0    1775\n",
       "1     104\n",
       "Name: count, dtype: int64"
      ]
     },
     "execution_count": 7,
     "metadata": {},
     "output_type": "execute_result"
    }
   ],
   "source": [
    "df['fraud'].value_counts()"
   ]
  },
  {
   "cell_type": "markdown",
   "metadata": {
    "id": "xQgiUUBTntVx"
   },
   "source": [
    "Because the number can be said to be 1: 100, the class becomes unbalanced or unbalanced, it is necessary to carry out a process to produce a better model "
   ]
  },
  {
   "cell_type": "markdown",
   "metadata": {
    "id": "dHoieZxPosJb"
   },
   "source": [
    "## Scale Numeric Data\n",
    "I would scale the numeric data to avoid the presence of outliers that could significantly affect our model. Using sklearn's StandardScaler() function can scale any column containing numeric data"
   ]
  },
  {
   "cell_type": "code",
   "execution_count": 8,
   "metadata": {
    "colab": {
     "base_uri": "https://localhost:8080/",
     "height": 444
    },
    "id": "js8hvagppnJq",
    "outputId": "b2386f7a-7f86-4637-bca9-f86a82c69612"
   },
   "outputs": [
    {
     "data": {
      "text/html": [
       "<div>\n",
       "<style scoped>\n",
       "    .dataframe tbody tr th:only-of-type {\n",
       "        vertical-align: middle;\n",
       "    }\n",
       "\n",
       "    .dataframe tbody tr th {\n",
       "        vertical-align: top;\n",
       "    }\n",
       "\n",
       "    .dataframe thead th {\n",
       "        text-align: right;\n",
       "    }\n",
       "</style>\n",
       "<table border=\"1\" class=\"dataframe\">\n",
       "  <thead>\n",
       "    <tr style=\"text-align: right;\">\n",
       "      <th></th>\n",
       "      <th>trustLevel</th>\n",
       "      <th>totalScanTimeInSeconds</th>\n",
       "      <th>grandTotal</th>\n",
       "      <th>lineItemVoids</th>\n",
       "      <th>scansWithoutRegistration</th>\n",
       "      <th>quantityModifications</th>\n",
       "      <th>scannedLineItemsPerSecond</th>\n",
       "      <th>valuePerSecond</th>\n",
       "      <th>lineItemVoidsPerPosition</th>\n",
       "    </tr>\n",
       "  </thead>\n",
       "  <tbody>\n",
       "    <tr>\n",
       "      <th>0</th>\n",
       "      <td>5</td>\n",
       "      <td>1054</td>\n",
       "      <td>54</td>\n",
       "      <td>7</td>\n",
       "      <td>0</td>\n",
       "      <td>3</td>\n",
       "      <td>0</td>\n",
       "      <td>0</td>\n",
       "      <td>0</td>\n",
       "    </tr>\n",
       "    <tr>\n",
       "      <th>1</th>\n",
       "      <td>3</td>\n",
       "      <td>108</td>\n",
       "      <td>27</td>\n",
       "      <td>5</td>\n",
       "      <td>2</td>\n",
       "      <td>4</td>\n",
       "      <td>0</td>\n",
       "      <td>0</td>\n",
       "      <td>0</td>\n",
       "    </tr>\n",
       "    <tr>\n",
       "      <th>2</th>\n",
       "      <td>3</td>\n",
       "      <td>1516</td>\n",
       "      <td>62</td>\n",
       "      <td>3</td>\n",
       "      <td>10</td>\n",
       "      <td>5</td>\n",
       "      <td>0</td>\n",
       "      <td>0</td>\n",
       "      <td>0</td>\n",
       "    </tr>\n",
       "    <tr>\n",
       "      <th>3</th>\n",
       "      <td>6</td>\n",
       "      <td>1791</td>\n",
       "      <td>92</td>\n",
       "      <td>8</td>\n",
       "      <td>4</td>\n",
       "      <td>4</td>\n",
       "      <td>0</td>\n",
       "      <td>0</td>\n",
       "      <td>0</td>\n",
       "    </tr>\n",
       "    <tr>\n",
       "      <th>4</th>\n",
       "      <td>5</td>\n",
       "      <td>430</td>\n",
       "      <td>81</td>\n",
       "      <td>3</td>\n",
       "      <td>7</td>\n",
       "      <td>2</td>\n",
       "      <td>0</td>\n",
       "      <td>0</td>\n",
       "      <td>0</td>\n",
       "    </tr>\n",
       "    <tr>\n",
       "      <th>...</th>\n",
       "      <td>...</td>\n",
       "      <td>...</td>\n",
       "      <td>...</td>\n",
       "      <td>...</td>\n",
       "      <td>...</td>\n",
       "      <td>...</td>\n",
       "      <td>...</td>\n",
       "      <td>...</td>\n",
       "      <td>...</td>\n",
       "    </tr>\n",
       "    <tr>\n",
       "      <th>1874</th>\n",
       "      <td>1</td>\n",
       "      <td>321</td>\n",
       "      <td>76</td>\n",
       "      <td>8</td>\n",
       "      <td>7</td>\n",
       "      <td>2</td>\n",
       "      <td>0</td>\n",
       "      <td>0</td>\n",
       "      <td>0</td>\n",
       "    </tr>\n",
       "    <tr>\n",
       "      <th>1875</th>\n",
       "      <td>1</td>\n",
       "      <td>397</td>\n",
       "      <td>41</td>\n",
       "      <td>5</td>\n",
       "      <td>5</td>\n",
       "      <td>0</td>\n",
       "      <td>0</td>\n",
       "      <td>0</td>\n",
       "      <td>0</td>\n",
       "    </tr>\n",
       "    <tr>\n",
       "      <th>1876</th>\n",
       "      <td>4</td>\n",
       "      <td>316</td>\n",
       "      <td>41</td>\n",
       "      <td>5</td>\n",
       "      <td>8</td>\n",
       "      <td>1</td>\n",
       "      <td>0</td>\n",
       "      <td>0</td>\n",
       "      <td>0</td>\n",
       "    </tr>\n",
       "    <tr>\n",
       "      <th>1877</th>\n",
       "      <td>2</td>\n",
       "      <td>685</td>\n",
       "      <td>62</td>\n",
       "      <td>1</td>\n",
       "      <td>6</td>\n",
       "      <td>2</td>\n",
       "      <td>0</td>\n",
       "      <td>0</td>\n",
       "      <td>0</td>\n",
       "    </tr>\n",
       "    <tr>\n",
       "      <th>1878</th>\n",
       "      <td>4</td>\n",
       "      <td>1140</td>\n",
       "      <td>38</td>\n",
       "      <td>2</td>\n",
       "      <td>2</td>\n",
       "      <td>3</td>\n",
       "      <td>0</td>\n",
       "      <td>0</td>\n",
       "      <td>0</td>\n",
       "    </tr>\n",
       "  </tbody>\n",
       "</table>\n",
       "<p>1879 rows × 9 columns</p>\n",
       "</div>"
      ],
      "text/plain": [
       "      trustLevel  totalScanTimeInSeconds  grandTotal  lineItemVoids   \n",
       "0              5                    1054          54              7  \\\n",
       "1              3                     108          27              5   \n",
       "2              3                    1516          62              3   \n",
       "3              6                    1791          92              8   \n",
       "4              5                     430          81              3   \n",
       "...          ...                     ...         ...            ...   \n",
       "1874           1                     321          76              8   \n",
       "1875           1                     397          41              5   \n",
       "1876           4                     316          41              5   \n",
       "1877           2                     685          62              1   \n",
       "1878           4                    1140          38              2   \n",
       "\n",
       "      scansWithoutRegistration  quantityModifications   \n",
       "0                            0                      3  \\\n",
       "1                            2                      4   \n",
       "2                           10                      5   \n",
       "3                            4                      4   \n",
       "4                            7                      2   \n",
       "...                        ...                    ...   \n",
       "1874                         7                      2   \n",
       "1875                         5                      0   \n",
       "1876                         8                      1   \n",
       "1877                         6                      2   \n",
       "1878                         2                      3   \n",
       "\n",
       "      scannedLineItemsPerSecond  valuePerSecond  lineItemVoidsPerPosition  \n",
       "0                             0               0                         0  \n",
       "1                             0               0                         0  \n",
       "2                             0               0                         0  \n",
       "3                             0               0                         0  \n",
       "4                             0               0                         0  \n",
       "...                         ...             ...                       ...  \n",
       "1874                          0               0                         0  \n",
       "1875                          0               0                         0  \n",
       "1876                          0               0                         0  \n",
       "1877                          0               0                         0  \n",
       "1878                          0               0                         0  \n",
       "\n",
       "[1879 rows x 9 columns]"
      ]
     },
     "execution_count": 8,
     "metadata": {},
     "output_type": "execute_result"
    }
   ],
   "source": [
    "# copy dataset\n",
    "df_ready = df.copy()\n",
    "df_ready = df_ready.drop(['fraud'],axis=1)\n",
    "df_ready"
   ]
  },
  {
   "cell_type": "code",
   "execution_count": 9,
   "metadata": {
    "colab": {
     "base_uri": "https://localhost:8080/",
     "height": 226
    },
    "id": "v_9Gg99YpA-a",
    "outputId": "8ac5a61f-a0c0-4642-a339-8d326fc388a7"
   },
   "outputs": [
    {
     "data": {
      "text/html": [
       "<div>\n",
       "<style scoped>\n",
       "    .dataframe tbody tr th:only-of-type {\n",
       "        vertical-align: middle;\n",
       "    }\n",
       "\n",
       "    .dataframe tbody tr th {\n",
       "        vertical-align: top;\n",
       "    }\n",
       "\n",
       "    .dataframe thead th {\n",
       "        text-align: right;\n",
       "    }\n",
       "</style>\n",
       "<table border=\"1\" class=\"dataframe\">\n",
       "  <thead>\n",
       "    <tr style=\"text-align: right;\">\n",
       "      <th></th>\n",
       "      <th>trustLevel</th>\n",
       "      <th>totalScanTimeInSeconds</th>\n",
       "      <th>grandTotal</th>\n",
       "      <th>lineItemVoids</th>\n",
       "      <th>scansWithoutRegistration</th>\n",
       "      <th>quantityModifications</th>\n",
       "      <th>scannedLineItemsPerSecond</th>\n",
       "      <th>valuePerSecond</th>\n",
       "      <th>lineItemVoidsPerPosition</th>\n",
       "    </tr>\n",
       "  </thead>\n",
       "  <tbody>\n",
       "    <tr>\n",
       "      <th>0</th>\n",
       "      <td>0.935189</td>\n",
       "      <td>0.229898</td>\n",
       "      <td>0.125538</td>\n",
       "      <td>0.443466</td>\n",
       "      <td>-1.562415</td>\n",
       "      <td>0.280068</td>\n",
       "      <td>-0.076406</td>\n",
       "      <td>-0.08093</td>\n",
       "      <td>-0.332514</td>\n",
       "    </tr>\n",
       "    <tr>\n",
       "      <th>1</th>\n",
       "      <td>-0.235121</td>\n",
       "      <td>-1.554996</td>\n",
       "      <td>-0.808049</td>\n",
       "      <td>-0.136202</td>\n",
       "      <td>-0.925241</td>\n",
       "      <td>0.870031</td>\n",
       "      <td>-0.076406</td>\n",
       "      <td>-0.08093</td>\n",
       "      <td>-0.332514</td>\n",
       "    </tr>\n",
       "    <tr>\n",
       "      <th>2</th>\n",
       "      <td>-0.235121</td>\n",
       "      <td>1.101590</td>\n",
       "      <td>0.402157</td>\n",
       "      <td>-0.715870</td>\n",
       "      <td>1.623453</td>\n",
       "      <td>1.459994</td>\n",
       "      <td>-0.076406</td>\n",
       "      <td>-0.08093</td>\n",
       "      <td>-0.332514</td>\n",
       "    </tr>\n",
       "    <tr>\n",
       "      <th>3</th>\n",
       "      <td>1.520344</td>\n",
       "      <td>1.620455</td>\n",
       "      <td>1.439476</td>\n",
       "      <td>0.733300</td>\n",
       "      <td>-0.288068</td>\n",
       "      <td>0.870031</td>\n",
       "      <td>-0.076406</td>\n",
       "      <td>-0.08093</td>\n",
       "      <td>-0.332514</td>\n",
       "    </tr>\n",
       "    <tr>\n",
       "      <th>4</th>\n",
       "      <td>0.935189</td>\n",
       "      <td>-0.947453</td>\n",
       "      <td>1.059125</td>\n",
       "      <td>-0.715870</td>\n",
       "      <td>0.667693</td>\n",
       "      <td>-0.309895</td>\n",
       "      <td>-0.076406</td>\n",
       "      <td>-0.08093</td>\n",
       "      <td>-0.332514</td>\n",
       "    </tr>\n",
       "  </tbody>\n",
       "</table>\n",
       "</div>"
      ],
      "text/plain": [
       "   trustLevel  totalScanTimeInSeconds  grandTotal  lineItemVoids   \n",
       "0    0.935189                0.229898    0.125538       0.443466  \\\n",
       "1   -0.235121               -1.554996   -0.808049      -0.136202   \n",
       "2   -0.235121                1.101590    0.402157      -0.715870   \n",
       "3    1.520344                1.620455    1.439476       0.733300   \n",
       "4    0.935189               -0.947453    1.059125      -0.715870   \n",
       "\n",
       "   scansWithoutRegistration  quantityModifications  scannedLineItemsPerSecond   \n",
       "0                 -1.562415               0.280068                  -0.076406  \\\n",
       "1                 -0.925241               0.870031                  -0.076406   \n",
       "2                  1.623453               1.459994                  -0.076406   \n",
       "3                 -0.288068               0.870031                  -0.076406   \n",
       "4                  0.667693              -0.309895                  -0.076406   \n",
       "\n",
       "   valuePerSecond  lineItemVoidsPerPosition  \n",
       "0        -0.08093                 -0.332514  \n",
       "1        -0.08093                 -0.332514  \n",
       "2        -0.08093                 -0.332514  \n",
       "3        -0.08093                 -0.332514  \n",
       "4        -0.08093                 -0.332514  "
      ]
     },
     "execution_count": 9,
     "metadata": {},
     "output_type": "execute_result"
    }
   ],
   "source": [
    "from sklearn.preprocessing import StandardScaler\n",
    "\n",
    "scaler = StandardScaler()\n",
    "colums = ['trustLevel','totalScanTimeInSeconds','grandTotal','lineItemVoids','scansWithoutRegistration','quantityModifications','scannedLineItemsPerSecond','valuePerSecond','lineItemVoidsPerPosition']\n",
    "df_ready[colums] = scaler.fit_transform(df_ready[colums])\n",
    "\n",
    "df_ready.head()"
   ]
  },
  {
   "cell_type": "markdown",
   "metadata": {
    "id": "fIbheAeIs-DW"
   },
   "source": [
    "# Select Feature Target\n",
    "Data that was 1:100 will be changed to 80:20. X as Feature and Y as Target"
   ]
  },
  {
   "cell_type": "code",
   "execution_count": 10,
   "metadata": {
    "id": "qJRXS8YntTYU"
   },
   "outputs": [],
   "source": [
    "# Features\n",
    "feature = df_ready\n",
    "#the dataset that contains X columns is now called to features\n",
    "#Target is Y\n",
    "# Target\n",
    "target = df['fraud']"
   ]
  },
  {
   "cell_type": "code",
   "execution_count": 11,
   "metadata": {
    "colab": {
     "base_uri": "https://localhost:8080/"
    },
    "id": "DEOVCQLBtfV5",
    "outputId": "31f70671-d5ea-46b9-dbe6-a4cd7142b48d"
   },
   "outputs": [
    {
     "name": "stdout",
     "output_type": "stream",
     "text": [
      "(1503, 9)\n",
      "(376, 9)\n",
      "(1503,)\n",
      "(376,)\n"
     ]
    }
   ],
   "source": [
    "# Set Training and Testing Data\n",
    "from sklearn.model_selection import train_test_split\n",
    "X_train, X_test, y_train, y_test = train_test_split(feature , target, \n",
    "                                                    shuffle = True, \n",
    "                                                    test_size=0.2, \n",
    "                                                    random_state=1)\n",
    "\n",
    "# Show the Training and Testing Data\n",
    "print(X_train.shape)\n",
    "print(X_test.shape)\n",
    "print(y_train.shape)\n",
    "print(y_test.shape)"
   ]
  },
  {
   "cell_type": "markdown",
   "metadata": {
    "id": "WV_xw9YOtsj5"
   },
   "source": [
    "The result is that the training data has 1503 rows and 376 for testing data."
   ]
  },
  {
   "cell_type": "markdown",
   "metadata": {
    "id": "LTN6n5gQt9cX"
   },
   "source": [
    "# Modeling\n",
    "Here we will try to build 3 different models with different algorithms. In this step we will create a base model for each algorithm using the default parameters set by sklearn and after building all 3 models, the models will be compared to see which one is the best for the case."
   ]
  },
  {
   "cell_type": "markdown",
   "metadata": {
    "id": "0aFm1gwZt_qa"
   },
   "source": [
    "## Decision Tree"
   ]
  },
  {
   "cell_type": "code",
   "execution_count": 12,
   "metadata": {
    "id": "KLV5LNipuCgv"
   },
   "outputs": [],
   "source": [
    "# Decision Tree model \n",
    "from sklearn import tree\n",
    "\n",
    "\n",
    "dtc = tree.DecisionTreeClassifier(random_state=0)\n",
    "dtc.fit(X_train, y_train)\n",
    "\n",
    " \n",
    "y_pred_dtc = dtc.predict(X_test)"
   ]
  },
  {
   "cell_type": "code",
   "execution_count": 13,
   "metadata": {
    "colab": {
     "base_uri": "https://localhost:8080/"
    },
    "id": "yze0-PbfuKsI",
    "outputId": "0aff7116-9279-4743-ebb0-1b7eba69086c"
   },
   "outputs": [
    {
     "name": "stdout",
     "output_type": "stream",
     "text": [
      "Confusion Matrix:\n",
      " [[339  14]\n",
      " [ 11  12]]\n",
      "Area Under Curve: 0.7410395368887794\n",
      "Accuracy: 0.9335106382978723\n",
      "Precision: 0.46153846153846156\n",
      "Recall: 0.5217391304347826\n",
      "F1 Score: 0.4897959183673469\n"
     ]
    }
   ],
   "source": [
    "from sklearn import metrics\n",
    "\n",
    "# Display confussion matrix\n",
    "dtc_cm = metrics.confusion_matrix(y_test, y_pred_dtc)\n",
    "print('Confusion Matrix:\\n', dtc_cm)\n",
    "\n",
    "# Calculate area under curve (AUC)\n",
    "y_pred_dtc_proba = dtc.predict_proba(X_test)[::,1]\n",
    "dtc_fpr, dtc_tpr, _ = metrics.roc_curve(y_test,  y_pred_dtc_proba)\n",
    "dtc_auc = metrics.roc_auc_score(y_test, y_pred_dtc_proba)\n",
    "print('Area Under Curve:', dtc_auc)\n",
    "\n",
    "# Calculate accuracy, precision, recall, f1-score, and kappa score\n",
    "dtc_acc = metrics.accuracy_score(y_test, y_pred_dtc)\n",
    "dtc_prec = metrics.precision_score(y_test, y_pred_dtc)\n",
    "dtc_rec = metrics.recall_score(y_test, y_pred_dtc)\n",
    "dtc_f1 = metrics.f1_score(y_test, y_pred_dtc)\n",
    "\n",
    "\n",
    "print('Accuracy:', dtc_acc)\n",
    "print('Precision:', dtc_prec)\n",
    "print('Recall:', dtc_rec)\n",
    "print('F1 Score:', dtc_f1)"
   ]
  },
  {
   "cell_type": "markdown",
   "metadata": {
    "id": "vKfwA7--uuQt"
   },
   "source": [
    "## Random Forest"
   ]
  },
  {
   "cell_type": "code",
   "execution_count": 14,
   "metadata": {
    "id": "77iD9bCEuwwn"
   },
   "outputs": [],
   "source": [
    "from sklearn.ensemble import RandomForestClassifier\n",
    "\n",
    "# Building Random Forest model \n",
    "rf = RandomForestClassifier(random_state=0)\n",
    "rf.fit(X_train.values, y_train.values)\n",
    " \n",
    "y_pred_rf = rf.predict(X_test.values)\n",
    "\n"
   ]
  },
  {
   "cell_type": "code",
   "execution_count": 15,
   "metadata": {
    "colab": {
     "base_uri": "https://localhost:8080/"
    },
    "id": "XZDYqRJeu10c",
    "outputId": "ffee6931-99fc-427f-ec42-0958d1e848c0"
   },
   "outputs": [
    {
     "name": "stdout",
     "output_type": "stream",
     "text": [
      "Confusion Matrix:\n",
      " [[346   7]\n",
      " [ 19   4]]\n",
      "Area Under Curve: 0.9350905283901959\n",
      "Accuracy: 0.9308510638297872\n",
      "Precision: 0.36363636363636365\n",
      "Recall: 0.17391304347826086\n",
      "F1 Score: 0.2352941176470588\n"
     ]
    },
    {
     "name": "stderr",
     "output_type": "stream",
     "text": [
      "C:\\Users\\admin\\AppData\\Local\\Programs\\Python\\Python311\\Lib\\site-packages\\sklearn\\base.py:432: UserWarning: X has feature names, but RandomForestClassifier was fitted without feature names\n",
      "  warnings.warn(\n"
     ]
    }
   ],
   "source": [
    "# Display confussion matrix\n",
    "rf_cm = metrics.confusion_matrix(y_test, y_pred_rf)\n",
    "print('Confusion Matrix:\\n', rf_cm)\n",
    "\n",
    "# Calculate area under curve (AUC)\n",
    "y_pred_rf_proba = rf.predict_proba(X_test)[::,1]\n",
    "rf_fpr, rf_tpr, _ = metrics.roc_curve(y_test,  y_pred_rf_proba)\n",
    "rf_auc = metrics.roc_auc_score(y_test, y_pred_rf_proba)\n",
    "print('Area Under Curve:', rf_auc)\n",
    "\n",
    "# Calculate accuracy, precision, recall, f1-score\n",
    "rf_acc = metrics.accuracy_score(y_test, y_pred_rf)\n",
    "rf_prec = metrics.precision_score(y_test, y_pred_rf)\n",
    "rf_rec = metrics.recall_score(y_test, y_pred_rf)\n",
    "rf_f1 = metrics.f1_score(y_test, y_pred_rf)\n",
    "\n",
    "\n",
    "print('Accuracy:', rf_acc)\n",
    "print('Precision:', rf_prec)\n",
    "print('Recall:', rf_rec)\n",
    "print('F1 Score:', rf_f1)\n",
    "\n",
    "\n"
   ]
  },
  {
   "cell_type": "markdown",
   "metadata": {
    "id": "1GLyLa_Su9CL"
   },
   "source": [
    "## Naive Bayes\n"
   ]
  },
  {
   "cell_type": "code",
   "execution_count": 16,
   "metadata": {
    "id": "CXRZ1ky_vBJt"
   },
   "outputs": [],
   "source": [
    "from sklearn.naive_bayes import GaussianNB\n",
    "\n",
    "# Building Naive Bayes model \n",
    "nb = GaussianNB()\n",
    "nb.fit(X_train, y_train)\n",
    "\n",
    "\n",
    "y_pred_nb = nb.predict(X_test)"
   ]
  },
  {
   "cell_type": "code",
   "execution_count": 17,
   "metadata": {
    "colab": {
     "base_uri": "https://localhost:8080/"
    },
    "id": "meDjX2WevCxu",
    "outputId": "4421e4d4-1af8-4d43-d184-429d94fc043a"
   },
   "outputs": [
    {
     "name": "stdout",
     "output_type": "stream",
     "text": [
      "Confusion Matrix:\n",
      " [[230 123]\n",
      " [  0  23]]\n",
      "Area Under Curve: 0.9547358049020815\n",
      "Accuracy: 0.6728723404255319\n",
      "Precision: 0.15753424657534246\n",
      "Recall: 1.0\n",
      "F1 Score: 0.27218934911242604\n"
     ]
    }
   ],
   "source": [
    "# Display confussion matrix\n",
    "nb_cm = metrics.confusion_matrix(y_test, y_pred_nb)\n",
    "print('Confusion Matrix:\\n', nb_cm)\n",
    "\n",
    "# Calculate area under curve (AUC)\n",
    "y_pred_nb_proba = nb.predict_proba(X_test)[::,1]\n",
    "nb_fpr, nb_tpr, _ = metrics.roc_curve(y_test,  y_pred_nb_proba)\n",
    "nb_auc = metrics.roc_auc_score(y_test, y_pred_nb_proba)\n",
    "print('Area Under Curve:', nb_auc)\n",
    "\n",
    "# Calculate accuracy, precision, recall, f1-score\n",
    "nb_acc = metrics.accuracy_score(y_test, y_pred_nb)\n",
    "nb_prec = metrics.precision_score(y_test, y_pred_nb)\n",
    "nb_rec = metrics.recall_score(y_test, y_pred_nb)\n",
    "nb_f1 = metrics.f1_score(y_test, y_pred_nb)\n",
    "\n",
    "\n",
    "print('Accuracy:', nb_acc)\n",
    "print('Precision:', nb_prec)\n",
    "print('Recall:', nb_rec)\n",
    "print('F1 Score:', nb_f1)\n"
   ]
  },
  {
   "cell_type": "markdown",
   "metadata": {
    "id": "J1GyC8-tvSWT"
   },
   "source": [
    "# Comparison of Models\n",
    "After creating all the models, you can now compare how well each model performs. To do this, two charts will be created, the first is a bar chart grouped to display the values for accuracy, precision, gain, f1, and the kappa score of our model, and the second is a line chart to show the APC of all our models"
   ]
  },
  {
   "cell_type": "code",
   "execution_count": 18,
   "metadata": {
    "colab": {
     "base_uri": "https://localhost:8080/",
     "height": 493
    },
    "id": "34lQ6Yn8vlOy",
    "outputId": "ac50053d-ed28-4137-e3a6-2e9629aca237"
   },
   "outputs": [
    {
     "name": "stderr",
     "output_type": "stream",
     "text": [
      "C:\\Users\\admin\\AppData\\Local\\Temp\\ipykernel_17108\\1140282005.py:4: MatplotlibDeprecationWarning: The seaborn styles shipped by Matplotlib are deprecated since 3.6, as they no longer correspond to the styles shipped by seaborn. However, they will remain available as 'seaborn-v0_8-<style>'. Alternatively, directly use the seaborn API instead.\n",
      "  plt.style.use('seaborn')\n"
     ]
    },
    {
     "data": {
      "image/png": "[encoded data removed]",
      "text/plain": [
       "<Figure size 1400x700 with 2 Axes>"
      ]
     },
     "metadata": {},
     "output_type": "display_data"
    }
   ],
   "source": [
    "import seaborn as sns\n",
    "import matplotlib.pyplot as plt\n",
    "plt.rcParams['figure.figsize'] = (10, 10)\n",
    "plt.style.use('seaborn')\n",
    "\n",
    "# Intitialize figure with two plots\n",
    "fig, (ax1, ax2) = plt.subplots(1, 2)\n",
    "fig.suptitle('Perbandingan Model', fontsize=16, fontweight='bold')\n",
    "fig.set_figheight(7)\n",
    "fig.set_figwidth(14)\n",
    "fig.set_facecolor('white')\n",
    "\n",
    "# First plot\n",
    "## set bar size\n",
    "barWidth = 0.2\n",
    "dtc_score = [dtc_acc, dtc_prec, dtc_rec, dtc_f1]\n",
    "rf_score = [rf_acc, rf_prec, rf_rec, rf_f1]\n",
    "nb_score = [nb_acc, nb_prec, nb_rec, nb_f1]\n",
    "\n",
    "## Set position of bar on X axis\n",
    "r1 = np.arange(len(dtc_score))\n",
    "r2 = [x + barWidth for x in r1]\n",
    "r3 = [x + barWidth for x in r2]\n",
    "r4 = [x + barWidth for x in r3]\n",
    "\n",
    "## Make the plot\n",
    "ax1.bar(r1, dtc_score, width=barWidth, edgecolor='white', label='Random Forest')\n",
    "ax1.bar(r2, rf_score, width=barWidth, edgecolor='white', label='Decision Tree')\n",
    "ax1.bar(r3, nb_score, width=barWidth, edgecolor='white', label='Naive Bayes')\n",
    "\n",
    "## Configure x and y axis\n",
    "ax1.set_xlabel('Metrics', fontweight='bold')\n",
    "labels = ['Accuracy', 'Precision', 'Recall', 'F1']\n",
    "ax1.set_xticks([r + (barWidth * 1.5) for r in range(len(dtc_score))], )\n",
    "ax1.set_xticklabels(labels)\n",
    "ax1.set_ylabel('Score', fontweight='bold')\n",
    "ax1.set_ylim(0, 1)\n",
    "\n",
    "## Create legend & title\n",
    "ax1.set_title('Evaluation Metrics', fontsize=14, fontweight='bold')\n",
    "ax1.legend()\n",
    "\n",
    "# Second plot\n",
    "## Comparing ROC Curve\n",
    "ax2.plot(dtc_fpr, dtc_tpr, label='Decision Tree, auc = {:0.5f}'.format(dtc_auc))\n",
    "ax2.plot(rf_fpr, rf_tpr, label='Random Forest, auc = {:0.5f}'.format(rf_auc))\n",
    "ax2.plot(nb_fpr, nb_tpr, label='Naive Bayes, auc = {:0.5f}'.format(nb_auc))\n",
    "\n",
    "## Configure x and y axis\n",
    "ax2.set_xlabel('False Positive Rate', fontweight='bold')\n",
    "ax2.set_ylabel('True Positive Rate', fontweight='bold')\n",
    "\n",
    "## Create legend & title\n",
    "ax2.set_title('ROC Curve', fontsize=14, fontweight='bold')\n",
    "ax2.legend(loc=4)\n",
    "\n",
    "plt.show()"
   ]
  },
  {
   "cell_type": "markdown",
   "metadata": {
    "id": "dMe3cumWv7ZV"
   },
   "source": [
    "From the figure above, it can be seen that the Random Forest model tops the other models in 4 of the 6 metrics evaluated, except for recall and AUC. So we can assume that Random Forest is the right choice to solve this case."
   ]
  },
  {
   "cell_type": "markdown",
   "metadata": {
    "id": "TfSc2UqPwg1g"
   },
   "source": [
    " Tuning Parameters using Grid Search Cross Validation\n",
    "We will use sklearn's GridSearchCV function to find the optimal parameters for the Random Forest model. give the base model the name rf_grids. The GridSearchCV function will iterate over each parameter combination to find the best scoring parameter."
   ]
  },
  {
   "cell_type": "code",
   "execution_count": 21,
   "metadata": {
    "colab": {
     "base_uri": "https://localhost:8080/"
    },
    "id": "PLfniY34xThQ",
    "outputId": "9f292d86-6ef4-4f55-df13-4ea74e0ee156"
   },
   "outputs": [
    {
     "name": "stdout",
     "output_type": "stream",
     "text": [
      "Fitting 5 folds for each of 405 candidates, totalling 2025 fits\n"
     ]
    },
    {
     "data": {
      "text/plain": [
       "{'max_depth': 50,\n",
       " 'max_features': 4,\n",
       " 'min_samples_leaf': 3,\n",
       " 'min_samples_split': 8,\n",
       " 'n_estimators': 100}"
      ]
     },
     "execution_count": 21,
     "metadata": {},
     "output_type": "execute_result"
    }
   ],
   "source": [
    "from sklearn.model_selection import GridSearchCV\n",
    "\n",
    "# Create the parameter grid based on the results of random search \n",
    "param_grid = {\n",
    "    'max_depth': [50, 80, 100],\n",
    "    'max_features': [2, 3, 4],\n",
    "    'min_samples_leaf': [3, 4, 5],\n",
    "    'min_samples_split': [8, 10, 12],\n",
    "    'n_estimators': [100, 300, 500, 750, 1000]\n",
    "}\n",
    "\n",
    "# Create a base model\n",
    "rf_grids = RandomForestClassifier(random_state=0)\n",
    "\n",
    "# Initiate the grid search model\n",
    "grid_search = GridSearchCV(estimator=rf_grids, param_grid=param_grid, scoring='recall',\n",
    "                           cv=5, n_jobs=-1, verbose=2)\n",
    "\n",
    "# Fit the grid search to the data\n",
    "grid_search.fit(X_train, y_train)\n",
    "\n",
    "grid_search.best_params_"
   ]
  },
  {
   "cell_type": "markdown",
   "metadata": {
    "id": "EQv5VJ_exhIs"
   },
   "source": [
    "After finding the best parameters for the model, we can access the best_estimator_ attribute of the GridSearchCV object to save the optimized model into a variable called best_grid. After that, the 6 evaluation metrics will be compared with the initial model."
   ]
  },
  {
   "cell_type": "code",
   "execution_count": 22,
   "metadata": {
    "id": "SyLwz1TuxZNU"
   },
   "outputs": [],
   "source": [
    "best_grid = grid_search.best_estimator_\n",
    "best_grid_pred = best_grid.predict(X_test)\n",
    "\n",
    "\n",
    "# Calculate accuracy, precision, recall, f1-score, and kappa score\n",
    "best_grid_acc = metrics.accuracy_score(y_test, best_grid_pred)\n",
    "best_grid_prec = metrics.precision_score(y_test, best_grid_pred)\n",
    "best_grid_rec = metrics.recall_score(y_test, best_grid_pred)\n",
    "best_grid_f1 = metrics.f1_score(y_test, best_grid_pred)\n",
    "best_grid_kappa = metrics.cohen_kappa_score(y_test, best_grid_pred)\n",
    "\n",
    "# Calculate area under curve (AUC)\n",
    "best_grid_pred_proba = best_grid.predict_proba(X_test)[::,1]\n",
    "best_grid_fpr, best_grid_tpr, _ = metrics.roc_curve(y_test,  best_grid_pred_proba)\n",
    "best_grid_auc = metrics.roc_auc_score(y_test, best_grid_pred_proba)"
   ]
  },
  {
   "cell_type": "markdown",
   "metadata": {
    "id": "VnDRJlam5KAY"
   },
   "source": [
    "# The final result"
   ]
  },
  {
   "cell_type": "code",
   "execution_count": 24,
   "metadata": {
    "colab": {
     "base_uri": "https://localhost:8080/",
     "height": 383
    },
    "id": "F1q0u5OX5V-O",
    "outputId": "f5c6d474-4b5a-4869-cfaf-8f277548a3ab"
   },
   "outputs": [
    {
     "name": "stderr",
     "output_type": "stream",
     "text": [
      "C:\\Users\\admin\\AppData\\Local\\Programs\\Python\\Python311\\Lib\\site-packages\\sklearn\\base.py:432: UserWarning: X has feature names, but RandomForestClassifier was fitted without feature names\n",
      "  warnings.warn(\n"
     ]
    },
    {
     "data": {
      "text/html": [
       "<div>\n",
       "<style scoped>\n",
       "    .dataframe tbody tr th:only-of-type {\n",
       "        vertical-align: middle;\n",
       "    }\n",
       "\n",
       "    .dataframe tbody tr th {\n",
       "        vertical-align: top;\n",
       "    }\n",
       "\n",
       "    .dataframe thead th {\n",
       "        text-align: right;\n",
       "    }\n",
       "</style>\n",
       "<table border=\"1\" class=\"dataframe\">\n",
       "  <thead>\n",
       "    <tr style=\"text-align: right;\">\n",
       "      <th></th>\n",
       "      <th>trustLevel</th>\n",
       "      <th>totalScanTimeInSeconds</th>\n",
       "      <th>grandTotal</th>\n",
       "      <th>lineItemVoids</th>\n",
       "      <th>scansWithoutRegistration</th>\n",
       "      <th>quantityModifications</th>\n",
       "      <th>scannedLineItemsPerSecond</th>\n",
       "      <th>valuePerSecond</th>\n",
       "      <th>lineItemVoidsPerPosition</th>\n",
       "      <th>fraud</th>\n",
       "      <th>fraud_prediction</th>\n",
       "    </tr>\n",
       "  </thead>\n",
       "  <tbody>\n",
       "    <tr>\n",
       "      <th>0</th>\n",
       "      <td>5</td>\n",
       "      <td>1054</td>\n",
       "      <td>54</td>\n",
       "      <td>7</td>\n",
       "      <td>0</td>\n",
       "      <td>3</td>\n",
       "      <td>0</td>\n",
       "      <td>0</td>\n",
       "      <td>0</td>\n",
       "      <td>0</td>\n",
       "      <td>0</td>\n",
       "    </tr>\n",
       "    <tr>\n",
       "      <th>1</th>\n",
       "      <td>3</td>\n",
       "      <td>108</td>\n",
       "      <td>27</td>\n",
       "      <td>5</td>\n",
       "      <td>2</td>\n",
       "      <td>4</td>\n",
       "      <td>0</td>\n",
       "      <td>0</td>\n",
       "      <td>0</td>\n",
       "      <td>0</td>\n",
       "      <td>0</td>\n",
       "    </tr>\n",
       "    <tr>\n",
       "      <th>2</th>\n",
       "      <td>3</td>\n",
       "      <td>1516</td>\n",
       "      <td>62</td>\n",
       "      <td>3</td>\n",
       "      <td>10</td>\n",
       "      <td>5</td>\n",
       "      <td>0</td>\n",
       "      <td>0</td>\n",
       "      <td>0</td>\n",
       "      <td>0</td>\n",
       "      <td>0</td>\n",
       "    </tr>\n",
       "    <tr>\n",
       "      <th>3</th>\n",
       "      <td>6</td>\n",
       "      <td>1791</td>\n",
       "      <td>92</td>\n",
       "      <td>8</td>\n",
       "      <td>4</td>\n",
       "      <td>4</td>\n",
       "      <td>0</td>\n",
       "      <td>0</td>\n",
       "      <td>0</td>\n",
       "      <td>0</td>\n",
       "      <td>0</td>\n",
       "    </tr>\n",
       "    <tr>\n",
       "      <th>4</th>\n",
       "      <td>5</td>\n",
       "      <td>430</td>\n",
       "      <td>81</td>\n",
       "      <td>3</td>\n",
       "      <td>7</td>\n",
       "      <td>2</td>\n",
       "      <td>0</td>\n",
       "      <td>0</td>\n",
       "      <td>0</td>\n",
       "      <td>0</td>\n",
       "      <td>0</td>\n",
       "    </tr>\n",
       "    <tr>\n",
       "      <th>5</th>\n",
       "      <td>1</td>\n",
       "      <td>770</td>\n",
       "      <td>11</td>\n",
       "      <td>11</td>\n",
       "      <td>5</td>\n",
       "      <td>2</td>\n",
       "      <td>0</td>\n",
       "      <td>0</td>\n",
       "      <td>0</td>\n",
       "      <td>1</td>\n",
       "      <td>1</td>\n",
       "    </tr>\n",
       "    <tr>\n",
       "      <th>6</th>\n",
       "      <td>3</td>\n",
       "      <td>294</td>\n",
       "      <td>55</td>\n",
       "      <td>2</td>\n",
       "      <td>7</td>\n",
       "      <td>1</td>\n",
       "      <td>0</td>\n",
       "      <td>0</td>\n",
       "      <td>0</td>\n",
       "      <td>0</td>\n",
       "      <td>0</td>\n",
       "    </tr>\n",
       "    <tr>\n",
       "      <th>7</th>\n",
       "      <td>2</td>\n",
       "      <td>1545</td>\n",
       "      <td>22</td>\n",
       "      <td>0</td>\n",
       "      <td>8</td>\n",
       "      <td>4</td>\n",
       "      <td>0</td>\n",
       "      <td>0</td>\n",
       "      <td>0</td>\n",
       "      <td>0</td>\n",
       "      <td>0</td>\n",
       "    </tr>\n",
       "    <tr>\n",
       "      <th>8</th>\n",
       "      <td>6</td>\n",
       "      <td>962</td>\n",
       "      <td>65</td>\n",
       "      <td>7</td>\n",
       "      <td>0</td>\n",
       "      <td>2</td>\n",
       "      <td>0</td>\n",
       "      <td>0</td>\n",
       "      <td>0</td>\n",
       "      <td>0</td>\n",
       "      <td>0</td>\n",
       "    </tr>\n",
       "    <tr>\n",
       "      <th>9</th>\n",
       "      <td>2</td>\n",
       "      <td>725</td>\n",
       "      <td>41</td>\n",
       "      <td>10</td>\n",
       "      <td>2</td>\n",
       "      <td>4</td>\n",
       "      <td>0</td>\n",
       "      <td>0</td>\n",
       "      <td>0</td>\n",
       "      <td>0</td>\n",
       "      <td>0</td>\n",
       "    </tr>\n",
       "    <tr>\n",
       "      <th>10</th>\n",
       "      <td>5</td>\n",
       "      <td>1533</td>\n",
       "      <td>84</td>\n",
       "      <td>4</td>\n",
       "      <td>2</td>\n",
       "      <td>4</td>\n",
       "      <td>0</td>\n",
       "      <td>0</td>\n",
       "      <td>0</td>\n",
       "      <td>0</td>\n",
       "      <td>0</td>\n",
       "    </tr>\n",
       "    <tr>\n",
       "      <th>11</th>\n",
       "      <td>4</td>\n",
       "      <td>764</td>\n",
       "      <td>28</td>\n",
       "      <td>8</td>\n",
       "      <td>0</td>\n",
       "      <td>0</td>\n",
       "      <td>0</td>\n",
       "      <td>0</td>\n",
       "      <td>0</td>\n",
       "      <td>0</td>\n",
       "      <td>0</td>\n",
       "    </tr>\n",
       "    <tr>\n",
       "      <th>12</th>\n",
       "      <td>4</td>\n",
       "      <td>1736</td>\n",
       "      <td>5</td>\n",
       "      <td>4</td>\n",
       "      <td>10</td>\n",
       "      <td>4</td>\n",
       "      <td>0</td>\n",
       "      <td>0</td>\n",
       "      <td>0</td>\n",
       "      <td>0</td>\n",
       "      <td>0</td>\n",
       "    </tr>\n",
       "    <tr>\n",
       "      <th>13</th>\n",
       "      <td>4</td>\n",
       "      <td>1705</td>\n",
       "      <td>16</td>\n",
       "      <td>7</td>\n",
       "      <td>4</td>\n",
       "      <td>4</td>\n",
       "      <td>0</td>\n",
       "      <td>0</td>\n",
       "      <td>0</td>\n",
       "      <td>0</td>\n",
       "      <td>0</td>\n",
       "    </tr>\n",
       "    <tr>\n",
       "      <th>14</th>\n",
       "      <td>6</td>\n",
       "      <td>1659</td>\n",
       "      <td>52</td>\n",
       "      <td>2</td>\n",
       "      <td>1</td>\n",
       "      <td>4</td>\n",
       "      <td>0</td>\n",
       "      <td>0</td>\n",
       "      <td>0</td>\n",
       "      <td>0</td>\n",
       "      <td>0</td>\n",
       "    </tr>\n",
       "    <tr>\n",
       "      <th>15</th>\n",
       "      <td>1</td>\n",
       "      <td>870</td>\n",
       "      <td>32</td>\n",
       "      <td>3</td>\n",
       "      <td>1</td>\n",
       "      <td>5</td>\n",
       "      <td>0</td>\n",
       "      <td>0</td>\n",
       "      <td>0</td>\n",
       "      <td>0</td>\n",
       "      <td>0</td>\n",
       "    </tr>\n",
       "    <tr>\n",
       "      <th>16</th>\n",
       "      <td>3</td>\n",
       "      <td>1295</td>\n",
       "      <td>42</td>\n",
       "      <td>11</td>\n",
       "      <td>10</td>\n",
       "      <td>0</td>\n",
       "      <td>0</td>\n",
       "      <td>0</td>\n",
       "      <td>0</td>\n",
       "      <td>0</td>\n",
       "      <td>0</td>\n",
       "    </tr>\n",
       "    <tr>\n",
       "      <th>17</th>\n",
       "      <td>6</td>\n",
       "      <td>590</td>\n",
       "      <td>79</td>\n",
       "      <td>6</td>\n",
       "      <td>10</td>\n",
       "      <td>4</td>\n",
       "      <td>0</td>\n",
       "      <td>0</td>\n",
       "      <td>0</td>\n",
       "      <td>0</td>\n",
       "      <td>0</td>\n",
       "    </tr>\n",
       "    <tr>\n",
       "      <th>18</th>\n",
       "      <td>3</td>\n",
       "      <td>139</td>\n",
       "      <td>59</td>\n",
       "      <td>8</td>\n",
       "      <td>5</td>\n",
       "      <td>5</td>\n",
       "      <td>0</td>\n",
       "      <td>0</td>\n",
       "      <td>2</td>\n",
       "      <td>0</td>\n",
       "      <td>0</td>\n",
       "    </tr>\n",
       "    <tr>\n",
       "      <th>19</th>\n",
       "      <td>3</td>\n",
       "      <td>1724</td>\n",
       "      <td>25</td>\n",
       "      <td>7</td>\n",
       "      <td>4</td>\n",
       "      <td>3</td>\n",
       "      <td>0</td>\n",
       "      <td>0</td>\n",
       "      <td>0</td>\n",
       "      <td>0</td>\n",
       "      <td>0</td>\n",
       "    </tr>\n",
       "  </tbody>\n",
       "</table>\n",
       "</div>"
      ],
      "text/plain": [
       "    trustLevel  totalScanTimeInSeconds  grandTotal  lineItemVoids   \n",
       "0            5                    1054          54              7  \\\n",
       "1            3                     108          27              5   \n",
       "2            3                    1516          62              3   \n",
       "3            6                    1791          92              8   \n",
       "4            5                     430          81              3   \n",
       "5            1                     770          11             11   \n",
       "6            3                     294          55              2   \n",
       "7            2                    1545          22              0   \n",
       "8            6                     962          65              7   \n",
       "9            2                     725          41             10   \n",
       "10           5                    1533          84              4   \n",
       "11           4                     764          28              8   \n",
       "12           4                    1736           5              4   \n",
       "13           4                    1705          16              7   \n",
       "14           6                    1659          52              2   \n",
       "15           1                     870          32              3   \n",
       "16           3                    1295          42             11   \n",
       "17           6                     590          79              6   \n",
       "18           3                     139          59              8   \n",
       "19           3                    1724          25              7   \n",
       "\n",
       "    scansWithoutRegistration  quantityModifications   \n",
       "0                          0                      3  \\\n",
       "1                          2                      4   \n",
       "2                         10                      5   \n",
       "3                          4                      4   \n",
       "4                          7                      2   \n",
       "5                          5                      2   \n",
       "6                          7                      1   \n",
       "7                          8                      4   \n",
       "8                          0                      2   \n",
       "9                          2                      4   \n",
       "10                         2                      4   \n",
       "11                         0                      0   \n",
       "12                        10                      4   \n",
       "13                         4                      4   \n",
       "14                         1                      4   \n",
       "15                         1                      5   \n",
       "16                        10                      0   \n",
       "17                        10                      4   \n",
       "18                         5                      5   \n",
       "19                         4                      3   \n",
       "\n",
       "    scannedLineItemsPerSecond  valuePerSecond  lineItemVoidsPerPosition   \n",
       "0                           0               0                         0  \\\n",
       "1                           0               0                         0   \n",
       "2                           0               0                         0   \n",
       "3                           0               0                         0   \n",
       "4                           0               0                         0   \n",
       "5                           0               0                         0   \n",
       "6                           0               0                         0   \n",
       "7                           0               0                         0   \n",
       "8                           0               0                         0   \n",
       "9                           0               0                         0   \n",
       "10                          0               0                         0   \n",
       "11                          0               0                         0   \n",
       "12                          0               0                         0   \n",
       "13                          0               0                         0   \n",
       "14                          0               0                         0   \n",
       "15                          0               0                         0   \n",
       "16                          0               0                         0   \n",
       "17                          0               0                         0   \n",
       "18                          0               0                         2   \n",
       "19                          0               0                         0   \n",
       "\n",
       "    fraud  fraud_prediction  \n",
       "0       0                 0  \n",
       "1       0                 0  \n",
       "2       0                 0  \n",
       "3       0                 0  \n",
       "4       0                 0  \n",
       "5       1                 1  \n",
       "6       0                 0  \n",
       "7       0                 0  \n",
       "8       0                 0  \n",
       "9       0                 0  \n",
       "10      0                 0  \n",
       "11      0                 0  \n",
       "12      0                 0  \n",
       "13      0                 0  \n",
       "14      0                 0  \n",
       "15      0                 0  \n",
       "16      0                 0  \n",
       "17      0                 0  \n",
       "18      0                 0  \n",
       "19      0                 0  "
      ]
     },
     "execution_count": 24,
     "metadata": {},
     "output_type": "execute_result"
    }
   ],
   "source": [
    "df ['fraud_prediction'] = rf.predict(feature)\n",
    "\n",
    "df.head(20)"
   ]
  },
  {
   "cell_type": "markdown",
   "metadata": {
    "id": "NcL7apmp6IM0"
   },
   "source": [
    "# CONCLUSION"
   ]
  },
  {
   "cell_type": "code",
   "execution_count": 25,
   "metadata": {
    "colab": {
     "base_uri": "https://localhost:8080/"
    },
    "id": "2Z4plouw6HUV",
    "outputId": "31467c5d-e27d-416d-c894-8881366c80da"
   },
   "outputs": [
    {
     "name": "stdout",
     "output_type": "stream",
     "text": [
      "Accuracy: 0.9281914893617021\n",
      "Precision: 0.35714285714285715\n",
      "Recall: 0.21739130434782608\n",
      "F1 Score: 0.27027027027027023\n"
     ]
    }
   ],
   "source": [
    "# Calculate accuracy, precision, recall, f1-score\n",
    "best_grid_acc = metrics.accuracy_score(y_test, best_grid_pred)\n",
    "best_grid_prec = metrics.precision_score(y_test, best_grid_pred)\n",
    "best_grid_rec = metrics.recall_score(y_test, best_grid_pred)\n",
    "best_grid_f1 = metrics.f1_score(y_test, best_grid_pred)\n",
    "\n",
    "\n",
    "# Calculate area under curve (AUC)\n",
    "best_grid_pred_proba = best_grid.predict_proba(X_test)[::,1]\n",
    "best_grid_fpr, best_grid_tpr, _ = metrics.roc_curve(y_test,  best_grid_pred_proba)\n",
    "best_grid_auc = metrics.roc_auc_score(y_test, best_grid_pred_proba)\n",
    "\n",
    "print('Accuracy:', best_grid_acc)\n",
    "print('Precision:', best_grid_prec)\n",
    "print('Recall:', best_grid_rec)\n",
    "print('F1 Score:', best_grid_f1)\n",
    "\n",
    "\n"
   ]
  },
  {
   "cell_type": "markdown",
   "metadata": {},
   "source": [
    "For a simple model, it can be seen that our model performs data classification well and has been optimized using GridSearchCV which means reaching the limit with this model"
   ]
  },
  {
   "cell_type": "markdown",
   "metadata": {},
   "source": [
    "# Prediction test & User Interface"
   ]
  },
  {
   "cell_type": "code",
   "execution_count": 26,
   "metadata": {},
   "outputs": [
    {
     "name": "stdout",
     "output_type": "stream",
     "text": [
      "Not Fraud\n"
     ]
    },
    {
     "name": "stderr",
     "output_type": "stream",
     "text": [
      "C:\\Users\\admin\\AppData\\Local\\Programs\\Python\\Python311\\Lib\\site-packages\\sklearn\\base.py:439: UserWarning: X does not have valid feature names, but DecisionTreeClassifier was fitted with feature names\n",
      "  warnings.warn(\n"
     ]
    }
   ],
   "source": [
    "input_array=np.array([[6,1397,62.59,7,9,4,0.0178954903364352,0.0448031496062992,0.28]])\n",
    "pred = dtc.predict(input_array)\n",
    "if  pred == 1:\n",
    "        print(\"Fraud\")\n",
    "elif pred==0:\n",
    "        print(\"Not Fraud\")\n"
   ]
  },
  {
   "cell_type": "code",
   "execution_count": null,
   "metadata": {},
   "outputs": [],
   "source": []
  }
 ],
 "metadata": {
  "colab": {
   "collapsed_sections": [],
   "include_colab_link": true,
   "name": "Welcome To Colaboratory",
   "provenance": []
  },
  "kernelspec": {
   "display_name": "Python 3 (ipykernel)",
   "language": "python",
   "name": "python3"
  },
  "language_info": {
   "codemirror_mode": {
    "name": "ipython",
    "version": 3
   },
   "file_extension": ".py",
   "mimetype": "text/x-python",
   "name": "python",
   "nbconvert_exporter": "python",
   "pygments_lexer": "ipython3",
   "version": "3.11.3"
  }
 },
 "nbformat": 4,
 "nbformat_minor": 1
}
